{
 "cells": [
  {
   "cell_type": "code",
   "execution_count": 1,
   "metadata": {},
   "outputs": [],
   "source": [
    "\n",
    "from tensorflow.keras.layers import Input, Lambda, Dense, Flatten,Conv2D\n",
    "from tensorflow.keras.models import Model\n",
    "from tensorflow.keras.applications.vgg19 import VGG19\n",
    "from tensorflow.keras.applications.resnet50 import preprocess_input\n",
    "from tensorflow.keras.preprocessing import image\n",
    "from tensorflow.keras.preprocessing.image import ImageDataGenerator,load_img\n",
    "from tensorflow.keras.models import Sequential\n",
    "import numpy as np\n",
    "from glob import glob\n",
    "import matplotlib.pyplot as plt\n"
   ]
  },
  {
   "cell_type": "code",
   "execution_count": 2,
   "metadata": {},
   "outputs": [],
   "source": [
    "# re-size all the images to this\n",
    "IMAGE_SIZE = [224, 224]\n",
    "\n",
    "train_path = 'D:\\Dataset\\Data\\Train'\n",
    "valid_path = 'D:\\Dataset\\Data\\Test'\n"
   ]
  },
  {
   "cell_type": "code",
   "execution_count": 3,
   "metadata": {},
   "outputs": [],
   "source": [
    "mobilnet = VGG19(input_shape=IMAGE_SIZE + [3], weights='imagenet', include_top=False)\n"
   ]
  },
  {
   "cell_type": "code",
   "execution_count": 4,
   "metadata": {},
   "outputs": [],
   "source": [
    "folders = glob('D:\\Dataset\\Data\\Train\\*')\n"
   ]
  },
  {
   "cell_type": "code",
   "execution_count": 5,
   "metadata": {},
   "outputs": [
    {
     "data": {
      "text/plain": [
       "['D:\\\\Dataset\\\\Data\\\\Train\\\\Parasite', 'D:\\\\Dataset\\\\Data\\\\Train\\\\Uninfected']"
      ]
     },
     "execution_count": 5,
     "metadata": {},
     "output_type": "execute_result"
    }
   ],
   "source": [
    "folders"
   ]
  },
  {
   "cell_type": "code",
   "execution_count": 6,
   "metadata": {},
   "outputs": [],
   "source": [
    "x = Flatten()(mobilnet.output)\n"
   ]
  },
  {
   "cell_type": "code",
   "execution_count": 7,
   "metadata": {},
   "outputs": [],
   "source": [
    "prediction = Dense(len(folders), activation='softmax')(x)\n",
    "\n",
    "# create a model object\n",
    "model = Model(inputs=mobilnet.input, outputs=prediction)\n"
   ]
  },
  {
   "cell_type": "code",
   "execution_count": 8,
   "metadata": {},
   "outputs": [
    {
     "name": "stdout",
     "output_type": "stream",
     "text": [
      "Model: \"functional_1\"\n",
      "_________________________________________________________________\n",
      "Layer (type)                 Output Shape              Param #   \n",
      "=================================================================\n",
      "input_1 (InputLayer)         [(None, 224, 224, 3)]     0         \n",
      "_________________________________________________________________\n",
      "block1_conv1 (Conv2D)        (None, 224, 224, 64)      1792      \n",
      "_________________________________________________________________\n",
      "block1_conv2 (Conv2D)        (None, 224, 224, 64)      36928     \n",
      "_________________________________________________________________\n",
      "block1_pool (MaxPooling2D)   (None, 112, 112, 64)      0         \n",
      "_________________________________________________________________\n",
      "block2_conv1 (Conv2D)        (None, 112, 112, 128)     73856     \n",
      "_________________________________________________________________\n",
      "block2_conv2 (Conv2D)        (None, 112, 112, 128)     147584    \n",
      "_________________________________________________________________\n",
      "block2_pool (MaxPooling2D)   (None, 56, 56, 128)       0         \n",
      "_________________________________________________________________\n",
      "block3_conv1 (Conv2D)        (None, 56, 56, 256)       295168    \n",
      "_________________________________________________________________\n",
      "block3_conv2 (Conv2D)        (None, 56, 56, 256)       590080    \n",
      "_________________________________________________________________\n",
      "block3_conv3 (Conv2D)        (None, 56, 56, 256)       590080    \n",
      "_________________________________________________________________\n",
      "block3_conv4 (Conv2D)        (None, 56, 56, 256)       590080    \n",
      "_________________________________________________________________\n",
      "block3_pool (MaxPooling2D)   (None, 28, 28, 256)       0         \n",
      "_________________________________________________________________\n",
      "block4_conv1 (Conv2D)        (None, 28, 28, 512)       1180160   \n",
      "_________________________________________________________________\n",
      "block4_conv2 (Conv2D)        (None, 28, 28, 512)       2359808   \n",
      "_________________________________________________________________\n",
      "block4_conv3 (Conv2D)        (None, 28, 28, 512)       2359808   \n",
      "_________________________________________________________________\n",
      "block4_conv4 (Conv2D)        (None, 28, 28, 512)       2359808   \n",
      "_________________________________________________________________\n",
      "block4_pool (MaxPooling2D)   (None, 14, 14, 512)       0         \n",
      "_________________________________________________________________\n",
      "block5_conv1 (Conv2D)        (None, 14, 14, 512)       2359808   \n",
      "_________________________________________________________________\n",
      "block5_conv2 (Conv2D)        (None, 14, 14, 512)       2359808   \n",
      "_________________________________________________________________\n",
      "block5_conv3 (Conv2D)        (None, 14, 14, 512)       2359808   \n",
      "_________________________________________________________________\n",
      "block5_conv4 (Conv2D)        (None, 14, 14, 512)       2359808   \n",
      "_________________________________________________________________\n",
      "block5_pool (MaxPooling2D)   (None, 7, 7, 512)         0         \n",
      "_________________________________________________________________\n",
      "flatten (Flatten)            (None, 25088)             0         \n",
      "_________________________________________________________________\n",
      "dense (Dense)                (None, 2)                 50178     \n",
      "=================================================================\n",
      "Total params: 20,074,562\n",
      "Trainable params: 20,074,562\n",
      "Non-trainable params: 0\n",
      "_________________________________________________________________\n"
     ]
    }
   ],
   "source": [
    "model.summary()\n"
   ]
  },
  {
   "cell_type": "code",
   "execution_count": 9,
   "metadata": {},
   "outputs": [],
   "source": [
    "from tensorflow.keras.layers import MaxPooling2D\n"
   ]
  },
  {
   "cell_type": "code",
   "execution_count": 10,
   "metadata": {},
   "outputs": [
    {
     "name": "stdout",
     "output_type": "stream",
     "text": [
      "Model: \"sequential\"\n",
      "_________________________________________________________________\n",
      "Layer (type)                 Output Shape              Param #   \n",
      "=================================================================\n",
      "conv2d (Conv2D)              (None, 224, 224, 16)      208       \n",
      "_________________________________________________________________\n",
      "max_pooling2d (MaxPooling2D) (None, 112, 112, 16)      0         \n",
      "_________________________________________________________________\n",
      "conv2d_1 (Conv2D)            (None, 112, 112, 32)      2080      \n",
      "_________________________________________________________________\n",
      "max_pooling2d_1 (MaxPooling2 (None, 56, 56, 32)        0         \n",
      "_________________________________________________________________\n",
      "conv2d_2 (Conv2D)            (None, 56, 56, 64)        8256      \n",
      "_________________________________________________________________\n",
      "max_pooling2d_2 (MaxPooling2 (None, 28, 28, 64)        0         \n",
      "_________________________________________________________________\n",
      "flatten_1 (Flatten)          (None, 50176)             0         \n",
      "_________________________________________________________________\n",
      "dense_1 (Dense)              (None, 500)               25088500  \n",
      "_________________________________________________________________\n",
      "dense_2 (Dense)              (None, 2)                 1002      \n",
      "=================================================================\n",
      "Total params: 25,100,046\n",
      "Trainable params: 25,100,046\n",
      "Non-trainable params: 0\n",
      "_________________________________________________________________\n"
     ]
    }
   ],
   "source": [
    "### Create Model from scratch using CNN\n",
    "model=Sequential()\n",
    "model.add(Conv2D(filters=16,kernel_size=2,padding=\"same\",activation=\"relu\",input_shape=(224,224,3)))\n",
    "model.add(MaxPooling2D(pool_size=2))\n",
    "model.add(Conv2D(filters=32,kernel_size=2,padding=\"same\",activation =\"relu\"))\n",
    "model.add(MaxPooling2D(pool_size=2))\n",
    "model.add(Conv2D(filters=64,kernel_size=2,padding=\"same\",activation=\"relu\"))\n",
    "model.add(MaxPooling2D(pool_size=2))\n",
    "model.add(Flatten())\n",
    "model.add(Dense(500,activation=\"relu\"))\n",
    "model.add(Dense(2,activation=\"softmax\"))\n",
    "model.summary()\n"
   ]
  },
  {
   "cell_type": "code",
   "execution_count": 11,
   "metadata": {},
   "outputs": [],
   "source": [
    "# tell the model what cost and optimization method to use\n",
    "model.compile(\n",
    "  loss='categorical_crossentropy',\n",
    "  optimizer='adam',\n",
    "  metrics=['accuracy']\n",
    ")\n"
   ]
  },
  {
   "cell_type": "code",
   "execution_count": 12,
   "metadata": {},
   "outputs": [],
   "source": [
    "\n",
    "# Use the Image Data Generator to import the images from the dataset\n",
    "from tensorflow.keras.preprocessing.image import ImageDataGenerator\n",
    "\n",
    "train_datagen = ImageDataGenerator(rescale = 1./255,\n",
    "                                   shear_range = 0.2,\n",
    "                                   zoom_range = 0.2,\n",
    "                                   horizontal_flip = True)\n",
    "\n",
    "test_datagen = ImageDataGenerator(rescale = 1./255)\n"
   ]
  },
  {
   "cell_type": "code",
   "execution_count": 13,
   "metadata": {},
   "outputs": [
    {
     "name": "stdout",
     "output_type": "stream",
     "text": [
      "Found 416 images belonging to 2 classes.\n"
     ]
    }
   ],
   "source": [
    "# Make sure you provide the same target size as initialied for the image size\n",
    "training_set = train_datagen.flow_from_directory('D:\\Dataset\\Data\\Train',\n",
    "                                                 target_size = (224, 224),\n",
    "                                                 batch_size = 32,\n",
    "                                                 class_mode = 'categorical')\n"
   ]
  },
  {
   "cell_type": "code",
   "execution_count": 14,
   "metadata": {},
   "outputs": [
    {
     "data": {
      "text/plain": [
       "<tensorflow.python.keras.preprocessing.image.DirectoryIterator at 0x28c55921ec8>"
      ]
     },
     "execution_count": 14,
     "metadata": {},
     "output_type": "execute_result"
    }
   ],
   "source": [
    "training_set\n"
   ]
  },
  {
   "cell_type": "code",
   "execution_count": 15,
   "metadata": {},
   "outputs": [
    {
     "name": "stdout",
     "output_type": "stream",
     "text": [
      "Found 134 images belonging to 2 classes.\n"
     ]
    }
   ],
   "source": [
    "test_set = test_datagen.flow_from_directory('D:\\Dataset\\Data\\Test',\n",
    "                                            target_size = (224, 224),\n",
    "                                            batch_size = 32,\n",
    "                                            class_mode = 'categorical')"
   ]
  },
  {
   "cell_type": "code",
   "execution_count": 16,
   "metadata": {},
   "outputs": [
    {
     "name": "stdout",
     "output_type": "stream",
     "text": [
      "WARNING:tensorflow:From <ipython-input-16-2d02736eff38>:8: Model.fit_generator (from tensorflow.python.keras.engine.training) is deprecated and will be removed in a future version.\n",
      "Instructions for updating:\n",
      "Please use Model.fit, which supports generators.\n",
      "Epoch 1/20\n",
      "13/13 [==============================] - 27s 2s/step - loss: 0.9783 - accuracy: 0.5697 - val_loss: 0.8429 - val_accuracy: 0.3284\n",
      "Epoch 2/20\n",
      "13/13 [==============================] - 15s 1s/step - loss: 0.5066 - accuracy: 0.7452 - val_loss: 1.2291 - val_accuracy: 0.2910\n",
      "Epoch 3/20\n",
      "13/13 [==============================] - 14s 1s/step - loss: 0.4438 - accuracy: 0.7861 - val_loss: 0.9780 - val_accuracy: 0.3881\n",
      "Epoch 4/20\n",
      "13/13 [==============================] - 13s 1s/step - loss: 0.4105 - accuracy: 0.8101 - val_loss: 1.0420 - val_accuracy: 0.4403\n",
      "Epoch 5/20\n",
      "13/13 [==============================] - 13s 1s/step - loss: 0.3623 - accuracy: 0.8149 - val_loss: 0.7288 - val_accuracy: 0.5224\n",
      "Epoch 6/20\n",
      "13/13 [==============================] - 15s 1s/step - loss: 0.3447 - accuracy: 0.8630 - val_loss: 0.7273 - val_accuracy: 0.5896\n",
      "Epoch 7/20\n",
      "13/13 [==============================] - 16s 1s/step - loss: 0.3116 - accuracy: 0.8582 - val_loss: 0.6312 - val_accuracy: 0.6418\n",
      "Epoch 8/20\n",
      "13/13 [==============================] - 16s 1s/step - loss: 0.2286 - accuracy: 0.9135 - val_loss: 0.5845 - val_accuracy: 0.7015\n",
      "Epoch 9/20\n",
      "13/13 [==============================] - 20s 2s/step - loss: 0.1910 - accuracy: 0.9375 - val_loss: 0.4294 - val_accuracy: 0.7612\n",
      "Epoch 10/20\n",
      "13/13 [==============================] - 21s 2s/step - loss: 0.1684 - accuracy: 0.9423 - val_loss: 0.3549 - val_accuracy: 0.8284\n",
      "Epoch 11/20\n",
      "13/13 [==============================] - 18s 1s/step - loss: 0.1439 - accuracy: 0.9399 - val_loss: 0.3829 - val_accuracy: 0.8134\n",
      "Epoch 12/20\n",
      "13/13 [==============================] - 18s 1s/step - loss: 0.1364 - accuracy: 0.9543 - val_loss: 0.2890 - val_accuracy: 0.8507\n",
      "Epoch 13/20\n",
      "13/13 [==============================] - 18s 1s/step - loss: 0.0942 - accuracy: 0.9663 - val_loss: 0.3142 - val_accuracy: 0.8731\n",
      "Epoch 14/20\n",
      "13/13 [==============================] - 18s 1s/step - loss: 0.1004 - accuracy: 0.9688 - val_loss: 0.2595 - val_accuracy: 0.8955\n",
      "Epoch 15/20\n",
      "13/13 [==============================] - 17s 1s/step - loss: 0.0839 - accuracy: 0.9736 - val_loss: 0.2680 - val_accuracy: 0.8582\n",
      "Epoch 16/20\n",
      "13/13 [==============================] - 17s 1s/step - loss: 0.0764 - accuracy: 0.9760 - val_loss: 0.3577 - val_accuracy: 0.8507\n",
      "Epoch 17/20\n",
      "13/13 [==============================] - 16s 1s/step - loss: 0.0743 - accuracy: 0.9832 - val_loss: 0.2796 - val_accuracy: 0.8731\n",
      "Epoch 18/20\n",
      "13/13 [==============================] - 17s 1s/step - loss: 0.0600 - accuracy: 0.9832 - val_loss: 0.2507 - val_accuracy: 0.9030\n",
      "Epoch 19/20\n",
      "13/13 [==============================] - 16s 1s/step - loss: 0.0430 - accuracy: 0.9904 - val_loss: 0.1895 - val_accuracy: 0.9254\n",
      "Epoch 20/20\n",
      "13/13 [==============================] - 16s 1s/step - loss: 0.0408 - accuracy: 0.9880 - val_loss: 0.1968 - val_accuracy: 0.9254\n"
     ]
    }
   ],
   "source": [
    "# fit the model\n",
    "# Run the cell. It will take some time to execute\n",
    "r = model.fit_generator(\n",
    "  training_set,\n",
    "  validation_data=test_set,\n",
    "  epochs=20,\n",
    "  steps_per_epoch=len(training_set),\n",
    "  validation_steps=len(test_set)\n",
    ")\n"
   ]
  },
  {
   "cell_type": "code",
   "execution_count": 17,
   "metadata": {},
   "outputs": [
    {
     "data": {
      "image/png": "[encoded data removed]",
      "text/plain": [
       "<Figure size 432x288 with 1 Axes>"
      ]
     },
     "metadata": {
      "needs_background": "light"
     },
     "output_type": "display_data"
    },
    {
     "data": {
      "image/png": "[encoded data removed]",
      "text/plain": [
       "<Figure size 432x288 with 1 Axes>"
      ]
     },
     "metadata": {
      "needs_background": "light"
     },
     "output_type": "display_data"
    },
    {
     "data": {
      "text/plain": [
       "<Figure size 432x288 with 0 Axes>"
      ]
     },
     "metadata": {},
     "output_type": "display_data"
    }
   ],
   "source": [
    "# plot the loss\n",
    "plt.plot(r.history['loss'], label='train loss')\n",
    "plt.plot(r.history['val_loss'], label='val loss')\n",
    "plt.legend()\n",
    "plt.show()\n",
    "plt.savefig('LossVal_loss')\n",
    "\n",
    "# plot the accuracy\n",
    "plt.plot(r.history['accuracy'], label='train acc')\n",
    "plt.plot(r.history['val_accuracy'], label='val acc')\n",
    "plt.legend()\n",
    "plt.show()\n",
    "plt.savefig('AccVal_acc')\n"
   ]
  },
  {
   "cell_type": "code",
   "execution_count": 18,
   "metadata": {},
   "outputs": [],
   "source": [
    "\n",
    "from tensorflow.keras.models import load_model\n",
    "\n",
    "model.save('model_vgg19.h5')\n"
   ]
  },
  {
   "cell_type": "code",
   "execution_count": 19,
   "metadata": {},
   "outputs": [
    {
     "data": {
      "text/plain": [
       "array([[9.99746025e-01, 2.53938138e-04],\n",
       "       [9.99970078e-01, 2.99634139e-05],\n",
       "       [3.60939279e-02, 9.63906109e-01],\n",
       "       [9.99962330e-01, 3.76949974e-05],\n",
       "       [9.99450505e-01, 5.49448770e-04],\n",
       "       [7.45325089e-02, 9.25467551e-01],\n",
       "       [4.89467293e-01, 5.10532737e-01],\n",
       "       [2.93856729e-02, 9.70614314e-01],\n",
       "       [2.46530958e-02, 9.75346923e-01],\n",
       "       [9.98252332e-01, 1.74764101e-03],\n",
       "       [9.96789217e-01, 3.21081304e-03],\n",
       "       [9.99999881e-01, 1.43481856e-07],\n",
       "       [1.36457980e-01, 8.63542020e-01],\n",
       "       [8.53858739e-02, 9.14614201e-01],\n",
       "       [9.99998212e-01, 1.77261745e-06],\n",
       "       [9.72050607e-01, 2.79494245e-02],\n",
       "       [1.14033043e-01, 8.85966957e-01],\n",
       "       [4.08999503e-01, 5.91000438e-01],\n",
       "       [7.70561844e-02, 9.22943830e-01],\n",
       "       [4.24537599e-01, 5.75462401e-01],\n",
       "       [9.99996543e-01, 3.47246464e-06],\n",
       "       [9.99945164e-01, 5.48573516e-05],\n",
       "       [8.35090056e-02, 9.16490972e-01],\n",
       "       [7.46320048e-03, 9.92536783e-01],\n",
       "       [1.94568649e-01, 8.05431366e-01],\n",
       "       [9.99613702e-01, 3.86375876e-04],\n",
       "       [9.99098659e-01, 9.01326479e-04],\n",
       "       [9.99665380e-01, 3.34601908e-04],\n",
       "       [9.98561442e-01, 1.43855717e-03],\n",
       "       [1.00000000e+00, 4.76141402e-08],\n",
       "       [5.75196564e-01, 4.24803436e-01],\n",
       "       [3.70245688e-02, 9.62975442e-01],\n",
       "       [9.77058113e-02, 9.02294159e-01],\n",
       "       [2.85918768e-02, 9.71408069e-01],\n",
       "       [1.00000000e+00, 6.31136865e-10],\n",
       "       [9.99999642e-01, 3.69627372e-07],\n",
       "       [7.62928724e-02, 9.23707068e-01],\n",
       "       [9.99982119e-01, 1.78955670e-05],\n",
       "       [4.09208238e-02, 9.59079146e-01],\n",
       "       [9.96987760e-01, 3.01226601e-03],\n",
       "       [9.99963999e-01, 3.60211270e-05],\n",
       "       [6.74531758e-02, 9.32546794e-01],\n",
       "       [1.20030418e-02, 9.87996995e-01],\n",
       "       [9.99982357e-01, 1.76093727e-05],\n",
       "       [9.99863505e-01, 1.36460905e-04],\n",
       "       [9.97214854e-01, 2.78522214e-03],\n",
       "       [9.82894897e-01, 1.71051156e-02],\n",
       "       [9.97997582e-01, 2.00235727e-03],\n",
       "       [9.74208593e-01, 2.57914532e-02],\n",
       "       [9.99722540e-01, 2.77401850e-04],\n",
       "       [9.99999046e-01, 9.87321641e-07],\n",
       "       [9.99459088e-01, 5.40902023e-04],\n",
       "       [9.41035211e-01, 5.89648187e-02],\n",
       "       [9.99975324e-01, 2.46950058e-05],\n",
       "       [8.58158693e-02, 9.14184093e-01],\n",
       "       [9.90251780e-01, 9.74818412e-03],\n",
       "       [9.97819304e-01, 2.18073186e-03],\n",
       "       [8.47351402e-02, 9.15264845e-01],\n",
       "       [9.99094367e-01, 9.05627734e-04],\n",
       "       [9.99987483e-01, 1.24612243e-05],\n",
       "       [9.98862147e-01, 1.13786303e-03],\n",
       "       [9.98503923e-01, 1.49607763e-03],\n",
       "       [9.99995589e-01, 4.43623230e-06],\n",
       "       [9.40890387e-02, 9.05910969e-01],\n",
       "       [4.48335111e-01, 5.51664948e-01],\n",
       "       [8.53397623e-02, 9.14660275e-01],\n",
       "       [3.45004834e-02, 9.65499461e-01],\n",
       "       [9.99752581e-01, 2.47373391e-04],\n",
       "       [9.99271214e-01, 7.28745887e-04],\n",
       "       [9.96517420e-01, 3.48262652e-03],\n",
       "       [9.92201209e-01, 7.79876439e-03],\n",
       "       [9.98322666e-01, 1.67736644e-03],\n",
       "       [3.31550762e-02, 9.66844976e-01],\n",
       "       [9.97613907e-01, 2.38610455e-03],\n",
       "       [7.84938335e-01, 2.15061635e-01],\n",
       "       [3.76473437e-03, 9.96235311e-01],\n",
       "       [1.20545045e-01, 8.79454970e-01],\n",
       "       [2.45181128e-01, 7.54818797e-01],\n",
       "       [9.99714434e-01, 2.85542425e-04],\n",
       "       [7.76781917e-01, 2.23218009e-01],\n",
       "       [3.78728397e-02, 9.62127209e-01],\n",
       "       [2.20996197e-02, 9.77900326e-01],\n",
       "       [6.95590898e-02, 9.30440962e-01],\n",
       "       [9.97428238e-01, 2.57172994e-03],\n",
       "       [1.15824260e-01, 8.84175718e-01],\n",
       "       [9.99985576e-01, 1.44504629e-05],\n",
       "       [9.09478247e-01, 9.05217603e-02],\n",
       "       [9.99971747e-01, 2.82312212e-05],\n",
       "       [9.99232769e-01, 7.67253689e-04],\n",
       "       [9.99566853e-01, 4.33152687e-04],\n",
       "       [9.98223364e-01, 1.77657406e-03],\n",
       "       [8.94974709e-01, 1.05025232e-01],\n",
       "       [2.99585424e-02, 9.70041454e-01],\n",
       "       [9.98726666e-01, 1.27327431e-03],\n",
       "       [9.99835730e-01, 1.64186844e-04],\n",
       "       [9.99686718e-01, 3.13248602e-04],\n",
       "       [1.00000000e+00, 7.10199586e-13],\n",
       "       [1.86205015e-01, 8.13795030e-01],\n",
       "       [9.99966145e-01, 3.38750469e-05],\n",
       "       [6.37368932e-02, 9.36263025e-01],\n",
       "       [1.05639763e-01, 8.94360244e-01],\n",
       "       [9.99999762e-01, 2.07648128e-07],\n",
       "       [1.00000000e+00, 8.21067836e-09],\n",
       "       [9.98131335e-01, 1.86863646e-03],\n",
       "       [7.55552873e-02, 9.24444675e-01],\n",
       "       [7.10972726e-01, 2.89027244e-01],\n",
       "       [3.24505150e-01, 6.75494790e-01],\n",
       "       [6.31361827e-02, 9.36863780e-01],\n",
       "       [4.59521152e-02, 9.54047859e-01],\n",
       "       [7.28983521e-01, 2.71016449e-01],\n",
       "       [1.00000000e+00, 4.79161288e-09],\n",
       "       [1.10083995e-02, 9.88991618e-01],\n",
       "       [5.39864041e-02, 9.46013570e-01],\n",
       "       [2.86245905e-02, 9.71375465e-01],\n",
       "       [6.22252189e-02, 9.37774777e-01],\n",
       "       [9.99999523e-01, 5.06277956e-07],\n",
       "       [8.24931502e-01, 1.75068527e-01],\n",
       "       [9.97127235e-01, 2.87278323e-03],\n",
       "       [9.71394360e-01, 2.86056809e-02],\n",
       "       [9.99566972e-01, 4.33030858e-04],\n",
       "       [3.69910002e-01, 6.30089939e-01],\n",
       "       [9.99873161e-01, 1.26842089e-04],\n",
       "       [1.00000000e+00, 1.38473832e-09],\n",
       "       [9.99980211e-01, 1.97428981e-05],\n",
       "       [9.99922514e-01, 7.74661239e-05],\n",
       "       [1.42628541e-02, 9.85737085e-01],\n",
       "       [2.53061175e-01, 7.46938765e-01],\n",
       "       [5.69934249e-02, 9.43006516e-01],\n",
       "       [7.05097198e-01, 2.94902772e-01],\n",
       "       [8.55141282e-02, 9.14485872e-01],\n",
       "       [4.90495652e-01, 5.09504378e-01],\n",
       "       [9.97684836e-01, 2.31513265e-03],\n",
       "       [1.00000000e+00, 4.62362981e-10],\n",
       "       [9.95934844e-01, 4.06513643e-03]], dtype=float32)"
      ]
     },
     "execution_count": 19,
     "metadata": {},
     "output_type": "execute_result"
    }
   ],
   "source": [
    "y_pred = model.predict(test_set)\n",
    "y_pred\n"
   ]
  },
  {
   "cell_type": "code",
   "execution_count": null,
   "metadata": {},
   "outputs": [],
   "source": [
    "\n"
   ]
  },
  {
   "cell_type": "code",
   "execution_count": 20,
   "metadata": {},
   "outputs": [],
   "source": [
    "from tensorflow.keras.models import load_model\n",
    "from tensorflow.keras.preprocessing import image\n"
   ]
  },
  {
   "cell_type": "code",
   "execution_count": 21,
   "metadata": {},
   "outputs": [],
   "source": [
    "model=load_model('model_vgg19.h5')\n"
   ]
  },
  {
   "cell_type": "code",
   "execution_count": 22,
   "metadata": {},
   "outputs": [],
   "source": [
    "#img=image.load_img('D:\\Dataset\\Data\\Test\\Parasite\\C39P4thinF_original_IMG_20150622_105554_cell_9.png',target_size=(224,224))\n"
   ]
  },
  {
   "cell_type": "code",
   "execution_count": 31,
   "metadata": {},
   "outputs": [
    {
     "data": {
      "text/plain": [
       "(1, 224, 224, 3)"
      ]
     },
     "execution_count": 31,
     "metadata": {},
     "output_type": "execute_result"
    }
   ],
   "source": [
    "path='D:\\Dataset\\Data\\Test\\Parasite\\C39P4thinF_original_IMG_20150622_105554_cell_9.png'\n",
    "\n",
    "img=image.load_img(path,target_size=(224,224))\n",
    "img=image.img_to_array(img)/255\n",
    "img=np.array([img])\n",
    "img.shape"
   ]
  },
  {
   "cell_type": "code",
   "execution_count": 32,
   "metadata": {},
   "outputs": [
    {
     "data": {
      "text/plain": [
       "array([[1., 0.]], dtype=float32)"
      ]
     },
     "execution_count": 32,
     "metadata": {},
     "output_type": "execute_result"
    }
   ],
   "source": [
    "model.predict(img_data)"
   ]
  },
  {
   "cell_type": "code",
   "execution_count": 33,
   "metadata": {},
   "outputs": [],
   "source": [
    "a=np.argmax(model.predict(img_data), axis=1)"
   ]
  },
  {
   "cell_type": "code",
   "execution_count": 34,
   "metadata": {},
   "outputs": [
    {
     "name": "stdout",
     "output_type": "stream",
     "text": [
      "Infected\n"
     ]
    }
   ],
   "source": [
    "\n",
    "if(a==1):\n",
    "    print(\"Uninfected\")\n",
    "else:\n",
    "    print(\"Infected\")\n"
   ]
  },
  {
   "cell_type": "code",
   "execution_count": null,
   "metadata": {},
   "outputs": [],
   "source": []
  }
 ],
 "metadata": {
  "kernelspec": {
   "display_name": "Python 3",
   "language": "python",
   "name": "python3"
  },
  "language_info": {
   "codemirror_mode": {
    "name": "ipython",
    "version": 3
   },
   "file_extension": ".py",
   "mimetype": "text/x-python",
   "name": "python",
   "nbconvert_exporter": "python",
   "pygments_lexer": "ipython3",
   "version": "3.7.4"
  }
 },
 "nbformat": 4,
 "nbformat_minor": 2
}
